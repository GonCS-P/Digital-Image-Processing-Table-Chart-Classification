{
 "cells": [
  {
   "cell_type": "code",
   "execution_count": 2,
   "metadata": {
    "collapsed": true
   },
   "outputs": [],
   "source": [
    "import PIL.Image\n",
    "import numpy as np\n",
    "from tkinter import *\n",
    "import tkinter.filedialog\n",
    "from os import  listdir, path\n",
    "from time import time\n",
    "from os import rename"
   ]
  },
  {
   "cell_type": "markdown",
   "metadata": {},
   "source": [
    "# עיבוד התמונה"
   ]
  },
  {
   "cell_type": "code",
   "execution_count": 2,
   "metadata": {
    "collapsed": true
   },
   "outputs": [],
   "source": [
    "def processing(file_name):\n",
    "    image=0\n",
    "    image=np.asarray(PIL.Image.open(input_dir + file_name))\n",
    "    h=len(image)\n",
    "    w=len(image[1])\n",
    "    if (len(image[0][0])==4):             #if the image is RGBA\n",
    "        b=[]\n",
    "        for l in range(h):\n",
    "            a=[]\n",
    "            for c in range(w):\n",
    "                a.append(image[l,c][:3])\n",
    "            b.append(a)\n",
    "        image=b\n",
    "    if (len(image[0][0])==3):\n",
    "    # יוצר מטריצות נוחות לעיבוד\n",
    "        trs=[]\n",
    "        tgs=[]\n",
    "        tbs=[]\n",
    "        rs=[]\n",
    "        gs=[]\n",
    "        bs=[]\n",
    "        for a in range(h):\n",
    "            for b in range(w):\n",
    "                trs.append(image[a][b][0])\n",
    "                tgs.append(image[a][b][1])\n",
    "                tbs.append(image[a][b][2])\n",
    "        for a in range(0,int(len(trs)/w)):\n",
    "            rs.append(trs[a*w:(a+1)*w])\n",
    "            gs.append(tgs[a*w:(a+1)*w])\n",
    "            bs.append(tbs[a*w:(a+1)*w])\n",
    "        layers=np.array([rs,gs,bs])\n",
    "        vector=np.array([trs,tgs,tbs])\n",
    "    # יוצר היסטוגרמה בעבור כלל התמונה\n",
    "        histo=[]\n",
    "        groups=4\n",
    "        no_zone=[]\n",
    "        for a in range (0,3):\n",
    "            histo=np.histogram(layers[a],bins=groups)\n",
    "            maxi=np.max(histo[0])\n",
    "            for b in range(0,groups):\n",
    "                if (histo[0][b]==maxi):\n",
    "                    no_zone.append(np.array([histo[1][b],histo[1][b+1]]))  \n",
    "    # מוצא את השורות והטורים של הטבלה\n",
    "        hor_ls=[]\n",
    "        ver_ls=[]\n",
    "        hor_ln=0\n",
    "        ver_ln=0\n",
    "        h=len(image)\n",
    "        w=len(image[1])\n",
    "        for a in range(0,3):    #עבור כל אחד מהצבעים\n",
    "            l=0        #מתחיל עבור צבע מהשורה הראשונה את הבדיקה\n",
    "            while (l<(h-2)):  #horizonal line detection\n",
    "                while ((l in hor_ls)&(l<(h-2))):\n",
    "                    l+=1\n",
    "                c=0\n",
    "                while (c<w):\n",
    "                    if (len(hor_ls)==hor_ln):      #אם השורה הנוכחית לא התגלתה כבר בתור קו\n",
    "                        if ((layers[a][l][c]<no_zone[a][0])|(layers[a][l][c]>no_zone[a][1])):\n",
    "                            if (((layers[a][l][c]/255)**2>(layers[a][l+1][c]/255))|\n",
    "                                ((layers[a][l][c]/255)<(layers[a][l+1][c]/255)**2)):#אם יש חשד שזה קו\n",
    "                                T=c\n",
    "                                pixels=[]\n",
    "                                lng=0\n",
    "                                while (T<w):\n",
    "                                    pixels.append(layers[a][l][T])\n",
    "                                    if ((np.mean((pixels-np.median(pixels))**2)>289)|\n",
    "                                        (((layers[a][l][T]-np.median(pixels))**2)>5000)):   #אם זה לא קו\n",
    "                                        break\n",
    "                                    else:\n",
    "                                        lng+=1    \n",
    "                                    if ((lng>w/4)&((np.median(pixels)<no_zone[a][0])|\n",
    "                                                   (np.median(pixels)>no_zone[a][1]))):   #horizonal line definition\n",
    "                                        hor_ls.append(l)\n",
    "                                        break\n",
    "                                    T+=1   \n",
    "                    else:\n",
    "                        hor_ln+=1\n",
    "                        break\n",
    "                    c+=1\n",
    "                l+=1\n",
    "        for a in range(0,3):    #עבור כל אחד מהצבעים בחיפוש טורים\n",
    "            c=0        #מתחיל עבור צבע מהשורה הראשונה את הבדיקה\n",
    "            while (c<(w-2)):  #horizonal line detection\n",
    "                while ((c in ver_ls)&(c<(w-2))):\n",
    "                    c+=1\n",
    "                l=0\n",
    "                while (l<h):\n",
    "                    if (len(ver_ls)==ver_ln):      #אם הטור הנוכחי לא התגלתה כבר בתור קו\n",
    "                        if ((layers[a][l][c]<no_zone[a][0])|(layers[a][l][c]>no_zone[a][1])):\n",
    "                            if (((layers[a][l][c]/255)**2>(layers[a][l][c+1]/255))|\n",
    "                                ((layers[a][l][c]/255)<(layers[a][l][c+1]/255)**2)):#אם יש חשד שזה קו\n",
    "                                s=l\n",
    "                                pixels=[]\n",
    "                                lng=0\n",
    "                                while (s<h):\n",
    "                                    pixels.append(layers[a][s][c])\n",
    "                                    if ((np.mean((pixels-np.median(pixels))**2)>289)|\n",
    "                                        (((layers[a][s][c]-np.median(pixels))**2)>5000)):   #אם זה לא קו\n",
    "                                        break\n",
    "                                    else:\n",
    "                                        lng+=1    \n",
    "                                    if ((lng>h/6)&((np.median(pixels)<no_zone[a][0])|\n",
    "                                                   (np.median(pixels)>no_zone[a][1]))):   #horizonal line definition\n",
    "                                        ver_ls.append(c)\n",
    "                                        break\n",
    "                                    s+=1   \n",
    "                    else:\n",
    "                        ver_ln+=1\n",
    "                        break\n",
    "                    l+=1\n",
    "                c+=1\n",
    "    # מסדר לפי גודל ומוחק כפילויות\n",
    "        hor_ls=sorted(hor_ls)\n",
    "        ver_ls=sorted(ver_ls)\n",
    "        i=0\n",
    "        while (i<(len(hor_ls)-2)):\n",
    "            lng=0\n",
    "            if (hor_ls[i+1]-hor_ls[i]==1):                    #אם מספרי השורות הם עוקבים   \n",
    "                while (hor_ls[i+lng+1]-hor_ls[i+lng]==1):            #כל עוד מספרי השורות הם עוקבים\n",
    "                    lng+=1\n",
    "                    if (i+lng+2>len(hor_ls)):\n",
    "                        break\n",
    "                if (lng<(h/50)):                          #אם זה קו שמן\n",
    "                    n=i\n",
    "                    x=0\n",
    "                    while (x<lng):       \n",
    "                        if (n!=i+np.int(lng/2)+(lng%2)):    #אם זה לא אמצע הקו\n",
    "                            hor_ls.remove(hor_ls[n])\n",
    "                        else:\n",
    "                            n+=1\n",
    "                        x+=1\n",
    "                else:                                       #אם זו שורה צבעונית עם צבע רקע\n",
    "                    x=0\n",
    "                    while (x<(lng-1)):\n",
    "                        try:\n",
    "                            hor_ls.remove(hor_ls[i+1])\n",
    "                        except:\n",
    "                            i+=1\n",
    "                            pass\n",
    "                        x+=1\n",
    "            else:\n",
    "                i+=1\n",
    "        if (len(hor_ls)>1):\n",
    "            if (hor_ls[-1]-hor_ls[-2]==1):\n",
    "                hor_ls.remove(hor_ls[-2])\n",
    "        i=0                                                #אותו דבר אבל על טורים\n",
    "        while (i<(len(ver_ls)-2)):\n",
    "            lng=0\n",
    "            if (ver_ls[i+1]-ver_ls[i]==1):                    #אם מספרי הטורים הם עוקבים   \n",
    "                while (ver_ls[i+lng+1]-ver_ls[i+lng]==1):            #כל עוד מספרי הטורים הם עוקבים\n",
    "                    lng+=1\n",
    "                    if (i+lng+2>len(ver_ls)):\n",
    "                        break\n",
    "                if (lng<(h/50)):                          #אם זה קו שמן\n",
    "                    n=i\n",
    "                    x=0\n",
    "                    while (x<lng):       \n",
    "                        if (n!=i+np.int(lng/2)+(lng%2)):    #אם זה לא אמצע הקו\n",
    "                            ver_ls.remove(ver_ls[n])\n",
    "                        else:\n",
    "                            n+=1\n",
    "                        x+=1\n",
    "                else:                                       #אם זו שורה צבעונית עם צבע רקע\n",
    "                    x=0\n",
    "                    while (x<(lng-1)):\n",
    "                        try:\n",
    "                            hor_ls.remove(hor_ls[i+1])\n",
    "                        except:\n",
    "                            i+=1\n",
    "                            pass\n",
    "                        x+=1\n",
    "            else:\n",
    "                i+=1\n",
    "        if (len(ver_ls)>1):\n",
    "            if (ver_ls[-1]-ver_ls[-2]==1):\n",
    "                ver_ls.remove(ver_ls[-2])\n",
    "    # בודק אם הקו בצבע שונה מצבע תא הטבלה\n",
    "        hor_box=[]\n",
    "        for b in range(0,(len(hor_ls)-1)):             #בעבור כל שורה\n",
    "            rbox=[]\n",
    "            gbox=[]\n",
    "            bbox=[]\n",
    "            if (len(ver_ls)>1):\n",
    "                for l in range(hor_ls[b],hor_ls[b+1]):   #בעבור כל שורות הפיקסלים שמרכיבות את השורה\n",
    "                    for c in range(ver_ls[0],ver_ls[-1]):#בעבור כל הטורי הפיקסלים שמרכיבים את השורה\n",
    "                        rbox.append(layers[0][l][c])\n",
    "                        gbox.append(layers[1][l][c])\n",
    "                        bbox.append(layers[2][l][c])\n",
    "            hor_box.append(np.array([rbox,gbox,bbox]))\n",
    "        hor_lines=[]\n",
    "        for b in range(0,len(hor_ls)):             #בעבור כל שורה\n",
    "            rl=[]\n",
    "            gl=[]\n",
    "            bl=[]\n",
    "            if (len(ver_ls)>1):\n",
    "                for c in range(ver_ls[0],ver_ls[-1]):#בעבור כל הטורי הפיקסלים שמרכיבים את השורה\n",
    "                    rl.append(layers[0][hor_ls[b]][c])\n",
    "                    gl.append(layers[1][hor_ls[b]][c])\n",
    "                    bl.append(layers[2][hor_ls[b]][c])\n",
    "            hor_lines.append(np.array([rl,gl,bl]))\n",
    "        i=0\n",
    "        hor_deltas=[]\n",
    "        hor_lns_unis=[]\n",
    "        while (i<len(hor_ls)):                   #בודק אם השורות דומות לרקע התאים\n",
    "            if ((i!=0)&(i!=(len(hor_ls)-1))&(len(hor_ls)>1)):           #אם זו לא השורה הראשונה ולא השורה האחרונה תבדוק אם התא שלפני והתא שאחרי\n",
    "                hor_deltas.append((np.median(hor_lines[i][0])-np.median(hor_box[i][0])/2-np.median(hor_box[i-1][0])/2)**2+\n",
    "                                 (np.median(hor_lines[i][1])-np.median(hor_box[i][1])/2-np.median(hor_box[i-1][1])/2)**2+\n",
    "                                 (np.median(hor_lines[i][2])-np.median(hor_box[i][2])/2-np.median(hor_box[i-1][2])/2)**2)\n",
    "            elif (len(hor_ls)>1):\n",
    "                if (i==0):              #אם זו השורה הראשונה\n",
    "                    hor_deltas.append((np.median(hor_lines[i][0])-np.median(hor_box[i][0]))**2+\n",
    "                                      (np.median(hor_lines[i][1])-np.median(hor_box[i][1]))**2+\n",
    "                                      (np.median(hor_lines[i][2])-np.median(hor_box[i][2]))**2)\n",
    "                else:                    #אם זו השורה האחרונה\n",
    "                    hor_deltas.append((np.median(hor_lines[i][0])-np.median(hor_box[i-1][0]))**2+\n",
    "                                      (np.median(hor_lines[i][1])-np.median(hor_box[i-1][1]))**2+\n",
    "                                      (np.median(hor_lines[i][2])-np.median(hor_box[i-1][2]))**2)\n",
    "            hor_lns_unis.append(np.median((np.median(hor_lines[i])-hor_lines)**2))                 #בודק את אחידות צבע הקוים\n",
    "            i+=1\n",
    "        hor_delta=np.median(hor_deltas)                #קלט ללמידת המכונה\n",
    "        hor_lns_uni=np.median(hor_lns_unis)            #קלט ללמידת המכונה\n",
    "        ver_box=[]\n",
    "        ver_no_zone=[]\n",
    "        for b in range(0,(len(ver_ls)-1)):             #בעבור כל טור\n",
    "            rbox=[]\n",
    "            gbox=[]\n",
    "            bbox=[]\n",
    "            if (len(hor_ls)>1):\n",
    "                for c in range(ver_ls[b],ver_ls[b+1]):   #בעבור כל טורי הפיקסלים שמרכיבים את הטור\n",
    "                    for l in range(hor_ls[0],hor_ls[-1]):#בעבור כל שורות הפיקסלים שמרכיבות את הטור\n",
    "                        rbox.append(layers[0][l][c])\n",
    "                        gbox.append(layers[1][l][c])\n",
    "                        bbox.append(layers[2][l][c])\n",
    "            ver_box.append(np.array([rbox,gbox,bbox]))\n",
    "        ver_lines=[]\n",
    "        for b in range(0,len(ver_ls)):             #בעבור כל טור\n",
    "            rl=[]\n",
    "            gl=[]\n",
    "            bl=[]\n",
    "            if (len(hor_ls)>1):\n",
    "                for c in range(hor_ls[0],hor_ls[-1]):#בעבור כל שורות הפיקסלים שמרכיבות את הטור\n",
    "                    rl.append(layers[0][c][ver_ls[b]])\n",
    "                    gl.append(layers[1][c][ver_ls[b]])\n",
    "                    bl.append(layers[2][c][ver_ls[b]])\n",
    "            ver_lines.append(np.array([rl,gl,bl]))\n",
    "        i=0\n",
    "        ver_deltas=[]\n",
    "        ver_lns_unis=[]\n",
    "        while (i<len(ver_ls)):                       #בודק אם השורות דומות לרקע התאים\n",
    "            if ((i!=0)&(i!=(len(ver_ls)-1))&(len(ver_ls)>1)):             #אם זו לא הטור הראשון ולא הטור האחרון תבדוק אם התא שמימין והתא שמשמאל\n",
    "                ver_deltas.append((np.median(ver_lines[i][0])-np.median(ver_box[i][0])/2-np.median(ver_box[i-1][0])/2)**2+\n",
    "                                  (np.median(ver_lines[i][1])-np.median(ver_box[i][1])/2-np.median(ver_box[i-1][1])/2)**2+\n",
    "                                  (np.median(ver_lines[i][2])-np.median(ver_box[i][2])/2-np.median(ver_box[i-1][2])/2)**2)\n",
    "            elif (len(ver_ls)>1):\n",
    "                if (i==0):                  #אם זו הטור הראשון\n",
    "                    ver_deltas.append((np.median(ver_lines[i][0])-np.median(ver_box[i][0]))**2+\n",
    "                                      (np.median(ver_lines[i][1])-np.median(ver_box[i][1]))**2+\n",
    "                                      (np.median(ver_lines[i][2])-np.median(ver_box[i][2]))**2)\n",
    "                else:                     #אם זו הטור האחרון\n",
    "                    ver_deltas.append((np.median(ver_lines[i][0])-np.median(ver_box[i-1][0]))**2+\n",
    "                                     (np.median(ver_lines[i][1])-np.median(ver_box[i-1][1]))**2+\n",
    "                                     (np.median(ver_lines[i][2])-np.median(ver_box[i-1][2]))**2)\n",
    "            ver_lns_unis.append(np.median((np.median(ver_lines[i])-ver_lines)**2))                   #בודק את אחידות צבע הקוים\n",
    "            i+=1    \n",
    "        ver_delta=np.median(ver_deltas)                #קלט ללמידת המכונה\n",
    "        ver_lns_uni=np.median(ver_lns_unis)            #קלט ללמידת המכונה\n",
    "    # אחידות רוחב השורות והטורים\n",
    "        uni_hor=[]\n",
    "        for i in range (len(hor_ls)-1):\n",
    "            uni_hor.append((hor_ls[i+1]-hor_ls[i])/h)\n",
    "        uniform_hor=np.median((uni_hor-np.median(uni_hor))**2)                       #קלט ללמידת המכונה\n",
    "        uni_ver=[]\n",
    "        for i in range (len(ver_ls)-1):\n",
    "            uni_ver.append((ver_ls[i+1]-ver_ls[i])/w)\n",
    "        uniform_ver=np.median((uni_ver-np.median(uni_ver))**2)                       #קלט ללמידת המכונה\n",
    "    # גודל הטבלה יחסית לגודל הדף (?) \n",
    "        if ((len(hor_ls)>0)&(len(ver_ls)>0)):\n",
    "            h_covarage=(hor_ls[-1]-hor_ls[0])/h           #קלט ללמידת המכונה\n",
    "            w_covarage=(ver_ls[-1]-ver_ls[0])/w           #קלט ללמידת המכונה\n",
    "        else:\n",
    "            h_covarage=0\n",
    "            w_covarage=0\n",
    "    # מכין מטריצה ללמידת מכונה\n",
    "        if (file_name[:5]==\"table\"):\n",
    "            polished_data.append(np.array([len(hor_ls),len(ver_ls),hor_delta,ver_delta,\n",
    "                                           hor_lns_uni,ver_lns_uni,uniform_hor,uniform_ver,h_covarage,w_covarage,1]))\n",
    "        else:\n",
    "            polished_data.append(np.array([len(hor_ls),len(ver_ls),hor_delta,ver_delta,\n",
    "                                           hor_lns_uni,ver_lns_uni,uniform_hor,uniform_ver,h_covarage,w_covarage,0]))\n",
    "        np.save('polished_data', polished_data)                #למחוק בסוף\n",
    "        return polished_data"
   ]
  },
  {
   "cell_type": "markdown",
   "metadata": {},
   "source": [
    "# הרצת עיבוד התמונה עבור כל התמונות"
   ]
  },
  {
   "cell_type": "code",
   "execution_count": 3,
   "metadata": {},
   "outputs": [
    {
     "name": "stderr",
     "output_type": "stream",
     "text": [
      "C:\\Program Files\\Anaconda3\\lib\\site-packages\\numpy\\core\\fromnumeric.py:2889: RuntimeWarning: Mean of empty slice.\n",
      "  out=out, **kwargs)\n",
      "C:\\Program Files\\Anaconda3\\lib\\site-packages\\numpy\\core\\_methods.py:80: RuntimeWarning: invalid value encountered in double_scalars\n",
      "  ret = ret.dtype.type(ret / rcount)\n",
      "C:\\Program Files\\Anaconda3\\lib\\site-packages\\numpy\\lib\\function_base.py:3858: RuntimeWarning: Invalid value encountered in median\n",
      "  r = func(a, **kwargs)\n"
     ]
    },
    {
     "name": "stdout",
     "output_type": "stream",
     "text": [
      "56060.79640364647\n"
     ]
    }
   ],
   "source": [
    "input_dir=\"images/\"\n",
    "start=time()\n",
    "polished_data=[]\n",
    "for file_name in listdir(input_dir):                #מעבד כל תמונה בתקייה\n",
    "    processing(file_name)\n",
    "print (time()-start)"
   ]
  },
  {
   "cell_type": "code",
   "execution_count": 4,
   "metadata": {},
   "outputs": [
    {
     "data": {
      "text/plain": [
       "11"
      ]
     },
     "execution_count": 4,
     "metadata": {},
     "output_type": "execute_result"
    }
   ],
   "source": [
    "polished_data = np.load('polished_data.npy')\n",
    "for i in range(len(polished_data)):                 #converts all the NaN to int\n",
    "    for p in range(len(polished_data[0])):\n",
    "        if (np.isnan(polished_data[i,p])):\n",
    "            if (p==2|p==3):\n",
    "                polished_data[i,p]=0\n",
    "            else:\n",
    "                polished_data[i,p]=65025\n",
    "np.save('polished_data', polished_data)\n",
    "len(polished_data[0])"
   ]
  },
  {
   "cell_type": "markdown",
   "metadata": {},
   "source": [
    "# למידת המכונה"
   ]
  },
  {
   "cell_type": "code",
   "execution_count": 3,
   "metadata": {},
   "outputs": [
    {
     "name": "stderr",
     "output_type": "stream",
     "text": [
      "C:\\Program Files\\Anaconda3\\lib\\site-packages\\sklearn\\cross_validation.py:44: DeprecationWarning: This module was deprecated in version 0.18 in favor of the model_selection module into which all the refactored classes and functions are moved. Also note that the interface of the new CV iterators are different from that of this module. This module will be removed in 0.20.\n",
      "  \"This module will be removed in 0.20.\", DeprecationWarning)\n"
     ]
    }
   ],
   "source": [
    "from sklearn import cross_validation\n",
    "from pybrain.tools.shortcuts import buildNetwork\n",
    "from pybrain.structure.modules import SigmoidLayer,SoftmaxLayer\n",
    "from pybrain.datasets import SupervisedDataSet\n",
    "from pybrain.supervised.trainers import BackpropTrainer"
   ]
  },
  {
   "cell_type": "markdown",
   "metadata": {},
   "source": [
    "# בודק מה הגודל האידיאלי של שכבת הביניים"
   ]
  },
  {
   "cell_type": "code",
   "execution_count": 4,
   "metadata": {
    "collapsed": true
   },
   "outputs": [],
   "source": [
    "def sigmoid(x,deriv=False):           #יצירת פונקציית הסיגמואיד\n",
    "    if (deriv==True):\n",
    "        return x*(1-x)\n",
    "    return 1/(1+np.exp(-x))"
   ]
  },
  {
   "cell_type": "code",
   "execution_count": 8,
   "metadata": {},
   "outputs": [
    {
     "name": "stdout",
     "output_type": "stream",
     "text": [
      "(77, 1) (77, 1)\n"
     ]
    },
    {
     "name": "stderr",
     "output_type": "stream",
     "text": [
      "C:\\Program Files\\Anaconda3\\lib\\site-packages\\ipykernel_launcher.py:4: RuntimeWarning: overflow encountered in exp\n",
      "  after removing the cwd from sys.path.\n"
     ]
    },
    {
     "data": {
      "image/png": "[encoded data removed]",
      "text/plain": [
       "<matplotlib.figure.Figure at 0x115d4b97668>"
      ]
     },
     "metadata": {},
     "output_type": "display_data"
    }
   ],
   "source": [
    "import matplotlib.pyplot as plt\n",
    "counts=[]\n",
    "mids=[]\n",
    "polished_data = np.load('polished_data.npy')\n",
    "np.random.shuffle(polished_data)   \n",
    "x=polished_data[:,:10]\n",
    "y=polished_data[:,10:11]\n",
    "for midlle_layer in range (20,21):\n",
    "    np.random.seed(1)\n",
    "    syn0=2*np.random.random((len(x[0]),midlle_layer))-1\n",
    "    syn1=2*np.random.random((midlle_layer,1))-1\n",
    "    for i in range(1):\n",
    "        l0=x\n",
    "        l1=sigmoid(np.dot(l0,syn0))\n",
    "        l2=sigmoid(np.dot(l1,syn1))\n",
    "        l2_err=y-l2\n",
    "        l2_delta=l2_err*sigmoid(l2,deriv=True)\n",
    "        l1_err=l2_delta.dot(syn1.T)\n",
    "        l1_delta=l1_err*sigmoid(l1,deriv=True)\n",
    "        syn1+=l1.T.dot(l2_delta)\n",
    "        syn0+=l0.T.dot(l1_delta)\n",
    "    count=0\n",
    "    for a in range(len(l2)):\n",
    "        if (np.mean(l2[a])>0.5)&(y[a]==1):\n",
    "            count+=1\n",
    "        if (np.mean(l2[a])<0.5)&(y[a]==0):\n",
    "            count+=1\n",
    "        if (np.mean(l2[a])<0.5)&(y[a]==1):\n",
    "            count-=1\n",
    "    counts.append(count)\n",
    "    mids.append(midlle_layer)\n",
    "plt.plot(mids,counts)\n",
    "plt.show()"
   ]
  },
  {
   "cell_type": "markdown",
   "metadata": {},
   "source": [
    "# בדיקה של הרשת הטובה ביותר"
   ]
  },
  {
   "cell_type": "code",
   "execution_count": 17,
   "metadata": {},
   "outputs": [
    {
     "name": "stderr",
     "output_type": "stream",
     "text": [
      "C:\\Program Files\\Anaconda3\\lib\\site-packages\\ipykernel_launcher.py:4: RuntimeWarning: overflow encountered in exp\n",
      "  after removing the cwd from sys.path.\n"
     ]
    }
   ],
   "source": [
    "polished_data = np.load('polished_data.npy')\n",
    "midlle_layer=20\n",
    "np.random.shuffle(polished_data)\n",
    "x=polished_data[:,:10]\n",
    "y=polished_data[:,10:11] \n",
    "best_err=1\n",
    "np.random.seed(1)\n",
    "syn0=2*np.random.random((len(x[0]),midlle_layer))-1\n",
    "syn1=2*np.random.random((midlle_layer,1))-1\n",
    "for i in range(10000):\n",
    "    l0=x\n",
    "    l1=sigmoid(np.dot(l0,syn0))\n",
    "    l2=sigmoid(np.dot(l1,syn1))\n",
    "    l2_err=y-l2\n",
    "    l2_delta=l2_err*sigmoid(l2,deriv=True)\n",
    "    l1_err=l2_delta.dot(syn1.T)\n",
    "    l1_delta=l1_err*sigmoid(l1,deriv=True)\n",
    "    syn1+=l1.T.dot(l2_delta)\n",
    "    syn0+=l0.T.dot(l1_delta)\n",
    "count=0\n",
    "for a in range(len(l2)):\n",
    "    if (np.mean(l2[a])>0.5)&(y[a]==1):\n",
    "        count+=1\n",
    "np.save(\"syn0\",syn0)\n",
    "np.save(\"syn1\",syn1)"
   ]
  },
  {
   "cell_type": "code",
   "execution_count": 8,
   "metadata": {
    "collapsed": true
   },
   "outputs": [],
   "source": [
    "polished_data=np.load('C:/Users/Gon/Documents/תיכנות/tab_ana/polished_data.npy')\n",
    "x=polished_data[:,:10]\n",
    "y=polished_data[:,10:11] "
   ]
  },
  {
   "cell_type": "code",
   "execution_count": 11,
   "metadata": {},
   "outputs": [
    {
     "data": {
      "text/plain": [
       "(77, 10)"
      ]
     },
     "execution_count": 11,
     "metadata": {},
     "output_type": "execute_result"
    }
   ],
   "source": [
    "np.shape(x)"
   ]
  },
  {
   "cell_type": "code",
   "execution_count": null,
   "metadata": {
    "collapsed": true
   },
   "outputs": [],
   "source": []
  }
 ],
 "metadata": {
  "kernelspec": {
   "display_name": "Python 3",
   "language": "python",
   "name": "python3"
  },
  "language_info": {
   "codemirror_mode": {
    "name": "ipython",
    "version": 3
   },
   "file_extension": ".py",
   "mimetype": "text/x-python",
   "name": "python",
   "nbconvert_exporter": "python",
   "pygments_lexer": "ipython3",
   "version": "3.6.1"
  }
 },
 "nbformat": 4,
 "nbformat_minor": 2
}
